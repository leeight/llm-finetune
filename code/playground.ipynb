{
 "cells": [
  {
   "cell_type": "code",
   "execution_count": 11,
   "metadata": {},
   "outputs": [],
   "source": [
    "from __future__ import annotations\n",
    "\n",
    "import math\n",
    "import sys\n",
    "import time\n",
    "from typing import TypeVar, Generic, Optional\n",
    "\n",
    "import numpy as np\n",
    "\n",
    "\n",
    "Shape = TypeVar(\"Shape\")\n",
    "\n",
    "class Array(np.ndarray, Generic[Shape]): ...\n",
    "\n",
    "class RMSNorm:\n",
    "    def __init__(self, eps: float):\n",
    "        self.eps = eps\n",
    "\n",
    "    def __call__(self, x: Array[\"B, L or 1, D\"]):\n",
    "        z: Array[\"B, L or 1, 1\"] = (x ** 2).mean(-1, keepdims=True) + self.eps\n",
    "        z: Array[\"B, L or 1, D\"] = x / np.sqrt(z)\n",
    "        return z"
   ]
  },
  {
   "cell_type": "code",
   "execution_count": 13,
   "metadata": {},
   "outputs": [],
   "source": [
    "s = RMSNorm(1e-6)"
   ]
  },
  {
   "cell_type": "code",
   "execution_count": 14,
   "metadata": {},
   "outputs": [
    {
     "data": {
      "text/plain": [
       "array([ 0.69873874,  1.46758862, -0.92688043, -0.71315626,  0.99511019])"
      ]
     },
     "execution_count": 14,
     "metadata": {},
     "output_type": "execute_result"
    }
   ],
   "source": [
    "s(np.random.randn(5))"
   ]
  }
 ],
 "metadata": {
  "kernelspec": {
   "display_name": "base",
   "language": "python",
   "name": "python3"
  },
  "language_info": {
   "codemirror_mode": {
    "name": "ipython",
    "version": 3
   },
   "file_extension": ".py",
   "mimetype": "text/x-python",
   "name": "python",
   "nbconvert_exporter": "python",
   "pygments_lexer": "ipython3",
   "version": "3.12.2"
  }
 },
 "nbformat": 4,
 "nbformat_minor": 2
}
